{
 "cells": [
  {
   "cell_type": "code",
   "execution_count": 1,
   "metadata": {},
   "outputs": [],
   "source": [
    "import pandas as pd\n",
    "import matplotlib.pyplot as plt"
   ]
  },
  {
   "cell_type": "code",
   "execution_count": 2,
   "metadata": {},
   "outputs": [],
   "source": [
    "folder=\"~/newmonti/energylevels/\""
   ]
  },
  {
   "cell_type": "code",
   "execution_count": 3,
   "metadata": {},
   "outputs": [],
   "source": [
    "hydrogen=pd.read_csv(folder+\"hydrogenHF.dat\",sep=' ',delimiter='\\s+',header=None)"
   ]
  },
  {
   "cell_type": "code",
   "execution_count": 4,
   "metadata": {},
   "outputs": [],
   "source": [
    "oxygen=pd.read_csv(folder+\"oxygenHF.dat\",sep=' ',delimiter='\\s+',header=None)"
   ]
  },
  {
   "cell_type": "code",
   "execution_count": 5,
   "metadata": {},
   "outputs": [],
   "source": [
    "carbon=pd.read_csv(folder+\"carbonHF.dat\",sep=' ',delimiter='\\s+',header=None)"
   ]
  },
  {
   "cell_type": "code",
   "execution_count": 6,
   "metadata": {},
   "outputs": [],
   "source": [
    "nitrogen=pd.read_csv(folder+\"nitrogenHF.dat\",sep=' ',delimiter='\\s+',header=None)"
   ]
  },
  {
   "cell_type": "code",
   "execution_count": 7,
   "metadata": {},
   "outputs": [],
   "source": [
    "adenine=pd.read_csv(folder+\"adenineB3LYP.dat\",sep=' ',delimiter='\\s+',header=None)"
   ]
  },
  {
   "cell_type": "code",
   "execution_count": 8,
   "metadata": {},
   "outputs": [],
   "source": [
    "cytosine=pd.read_csv(folder+\"cytosineB3LYP.dat\",sep=' ',delimiter='\\s+',header=None)"
   ]
  },
  {
   "cell_type": "code",
   "execution_count": 9,
   "metadata": {},
   "outputs": [],
   "source": [
    "guanine=pd.read_csv(folder+\"guanineB3LYP.dat\",sep=' ',delimiter='\\s+',header=None)"
   ]
  },
  {
   "cell_type": "code",
   "execution_count": 10,
   "metadata": {},
   "outputs": [],
   "source": [
    "thymine=pd.read_csv(folder+\"thymineB3LYP.dat\",sep=' ',delimiter='\\s+',header=None)"
   ]
  },
  {
   "cell_type": "code",
   "execution_count": 11,
   "metadata": {},
   "outputs": [],
   "source": [
    "uracil=pd.read_csv(folder+\"uracilB3LYP.dat\",sep=' ',delimiter='\\s+',header=None)"
   ]
  },
  {
   "cell_type": "code",
   "execution_count": 12,
   "metadata": {},
   "outputs": [],
   "source": [
    "plt.rc('text', usetex=True)\n",
    "plt.rc('font', family='serif')"
   ]
  },
  {
   "cell_type": "code",
   "execution_count": 16,
   "metadata": {},
   "outputs": [],
   "source": [
    "x=[0.6, 1.5, 2.5, 3.4, 4.5, 5.6, 6.75, 7.9, 9.1]"
   ]
  },
  {
   "cell_type": "code",
   "execution_count": 17,
   "metadata": {},
   "outputs": [
    {
     "data": {
      "image/png": "[encoded data removed]",
      "text/plain": [
       "<Figure size 1080x648 with 1 Axes>"
      ]
     },
     "metadata": {
      "needs_background": "light"
     },
     "output_type": "display_data"
    }
   ],
   "source": [
    "fig = plt.figure(figsize=(15,9))\n",
    "ax = plt.subplot(111)\n",
    "xdel=0.4\n",
    "plt.hlines(carbon[0][1:2],   x[0]-xdel,x[0]+xdel,color='k')\n",
    "plt.hlines(hydrogen,         x[1]-xdel,x[1]+xdel,color='tab:grey')\n",
    "plt.hlines(nitrogen[0][1:2], x[2]-xdel,x[2]+xdel,color='b')\n",
    "plt.hlines(oxygen[0][1:2],   x[3]-xdel,x[3]+xdel,color='r')\n",
    "plt.hlines(adenine[0][10:-1],x[4]-xdel,x[4]+xdel,color='tab:green')\n",
    "plt.hlines(cytosine[0][8:-1],x[5]-xdel,x[5]+xdel,color='tab:orange')\n",
    "plt.hlines(guanine[0][11:-1],x[6]-xdel,x[6]+xdel,color='turquoise')\n",
    "plt.hlines(thymine[0][9:-1], x[7]-xdel,x[7]+xdel,color='tab:blue')\n",
    "plt.hlines(uracil[0][8:-1],  x[8]-xdel,x[8]+xdel,color='mediumorchid')\n",
    "plt.xlim(0.,9.7)\n",
    "plt.tick_params(labelsize=22);\n",
    "plt.ylabel(\"Binding energies (a.u.)\", fontsize=26,labelpad=15)\n",
    "plt.xticks(x, ('C', 'H', 'N', 'O', r'C$_5$H$_5$N$_5$',r'C$_4$H$_5$N$_3$O',r'C$_5$H$_5$N$_5$O',r'C$_5$H$_6$N$_2$O$_2$',r'C$_4$H$_4$N$_2$O$_2$'))\n",
    "plt.savefig(\"../DNA.eps\",bbox_inches='tight')\n",
    "plt.show()"
   ]
  },
  {
   "cell_type": "code",
   "execution_count": null,
   "metadata": {},
   "outputs": [],
   "source": []
  },
  {
   "cell_type": "code",
   "execution_count": null,
   "metadata": {},
   "outputs": [],
   "source": []
  }
 ],
 "metadata": {
  "kernelspec": {
   "display_name": "Python 3",
   "language": "python",
   "name": "python3"
  },
  "language_info": {
   "codemirror_mode": {
    "name": "ipython",
    "version": 3
   },
   "file_extension": ".py",
   "mimetype": "text/x-python",
   "name": "python",
   "nbconvert_exporter": "python",
   "pygments_lexer": "ipython3",
   "version": "3.7.1"
  }
 },
 "nbformat": 4,
 "nbformat_minor": 2
}
