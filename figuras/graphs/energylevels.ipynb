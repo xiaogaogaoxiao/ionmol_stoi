{
 "cells": [
  {
   "cell_type": "code",
   "execution_count": 8,
   "metadata": {},
   "outputs": [],
   "source": [
    "import numpy as np"
   ]
  },
  {
   "cell_type": "code",
   "execution_count": 1,
   "metadata": {},
   "outputs": [],
   "source": [
    "import pandas as pd\n",
    "import matplotlib.pyplot as plt\n",
    "from matplotlib.ticker import (MultipleLocator, FormatStrFormatter,\n",
    "                               AutoMinorLocator)"
   ]
  },
  {
   "cell_type": "code",
   "execution_count": 2,
   "metadata": {},
   "outputs": [],
   "source": [
    "convau2eV=13.6056980659"
   ]
  },
  {
   "cell_type": "code",
   "execution_count": 3,
   "metadata": {},
   "outputs": [],
   "source": [
    "folder=\"~/newmonti/energylevels/\""
   ]
  },
  {
   "cell_type": "code",
   "execution_count": 4,
   "metadata": {},
   "outputs": [],
   "source": [
    "hydrogen=pd.read_csv(folder+\"hydrogenHF.dat\",sep=' ',delimiter='\\s+',header=None)\n",
    "oxygen=pd.read_csv(folder+\"oxygenHF.dat\",sep=' ',delimiter='\\s+',header=None)\n",
    "carbon=pd.read_csv(folder+\"carbonHF.dat\",sep=' ',delimiter='\\s+',header=None)\n",
    "nitrogen=pd.read_csv(folder+\"nitrogenHF.dat\",sep=' ',delimiter='\\s+',header=None)\n",
    "adenine=pd.read_csv(folder+\"adenineB3LYP.dat\",sep=' ',delimiter='\\s+',header=None)\n",
    "cytosine=pd.read_csv(folder+\"cytosineB3LYP.dat\",sep=' ',delimiter='\\s+',header=None)\n",
    "guanine=pd.read_csv(folder+\"guanineB3LYP.dat\",sep=' ',delimiter='\\s+',header=None)\n",
    "thymine=pd.read_csv(folder+\"thymineB3LYP.dat\",sep=' ',delimiter='\\s+',header=None)\n",
    "uracil=pd.read_csv(folder+\"uracilB3LYP.dat\",sep=' ',delimiter='\\s+',header=None)"
   ]
  },
  {
   "cell_type": "code",
   "execution_count": 5,
   "metadata": {},
   "outputs": [],
   "source": [
    "plt.rc('text', usetex=True)\n",
    "plt.rc('font', family='serif')"
   ]
  },
  {
   "cell_type": "code",
   "execution_count": 6,
   "metadata": {},
   "outputs": [],
   "source": [
    "x=[0.6, 1.55, 2.5, 3.45, 4.55, 5.75, 6.95, 8.15, 9.35]"
   ]
  },
  {
   "cell_type": "code",
   "execution_count": 13,
   "metadata": {},
   "outputs": [
    {
     "data": {
      "image/png": "[encoded data removed]",
      "text/plain": [
       "<Figure size 1296x648 with 1 Axes>"
      ]
     },
     "metadata": {
      "needs_background": "light"
     },
     "output_type": "display_data"
    }
   ],
   "source": [
    "fig = plt.figure(figsize=(18,9))\n",
    "ax = plt.subplot(111)\n",
    "xdel=0.4\n",
    "iw=2\n",
    "plt.hlines(carbon[1:3]*convau2eV,     x[0]-xdel,x[0]+xdel,color='k',linewidths=iw)\n",
    "plt.hlines(hydrogen*convau2eV,        x[1]-xdel,x[1]+xdel,color='tab:grey',linewidths=iw)\n",
    "plt.hlines(nitrogen[0][1:3]*convau2eV,x[2]-xdel,x[2]+xdel,color='blue',linewidths=iw)\n",
    "plt.hlines(oxygen[0][1:3]*convau2eV,  x[3]-xdel,x[3]+xdel,color='red',linewidths=iw)\n",
    "xdel=0.5\n",
    "plt.hlines(adenine[0][10:]*convau2eV, x[4]-xdel,x[4]+xdel,color='orange',linewidths=iw)\n",
    "plt.hlines(cytosine[0][8:]*convau2eV, x[5]-xdel,x[5]+xdel,color='mediumseagreen',linewidths=iw)\n",
    "plt.hlines(guanine[0][11:]*convau2eV, x[6]-xdel,x[6]+xdel,color='turquoise',linewidths=iw)\n",
    "plt.hlines(thymine[0][9:]*convau2eV,  x[7]-xdel,x[7]+xdel,color='cornflowerblue',linewidths=iw)\n",
    "plt.hlines(uracil[0][8:]*convau2eV,   x[8]-xdel,x[8]+xdel,color='violet',linewidths=iw)\n",
    "xmin=0.\n",
    "xmax=x[8]+xdel+0.2\n",
    "ymin=-1.3*convau2eV\n",
    "ymax=-0.125*convau2eV\n",
    "plt.hlines(-0.81*convau2eV,xmin,xmax,color='tab:gray',linestyle='dashed',linewidth=1)\n",
    "plt.xlim(xmin,xmax)\n",
    "plt.ylim(ymin,ymax)\n",
    "ax.yaxis.set_major_locator(MultipleLocator(2));\n",
    "ax.yaxis.set_minor_locator(MultipleLocator(0.4))\n",
    "ax.tick_params(which='major', labelsize=26,length=8);\n",
    "ax.tick_params(which='minor', length=6)\n",
    "plt.ylabel(\"Binding energy (eV)\", fontsize=32)\n",
    "plt.xticks(x, ('C', 'H', 'N', 'O', r'C$_5$H$_5$N$_5$',r'C$_4$H$_5$N$_3$O',r'C$_5$H$_5$N$_5$O',r'C$_5$H$_6$N$_2$O$_2$',r'C$_4$H$_4$N$_2$O$_2$'))\n",
    "plt.text(x[0]-0.11, (carbon[0][1]+0.03)*convau2eV, '2s',fontsize=26)\n",
    "plt.text(x[0]-0.11, (carbon[0][2]+0.03)*convau2eV, '2p',fontsize=26)\n",
    "plt.text(x[1]-0.11, (hydrogen[0][0]+0.03)*convau2eV, '1s',fontsize=26)\n",
    "plt.text(x[2]-0.11, (nitrogen[0][1]+0.03)*convau2eV, '2s',fontsize=26)\n",
    "plt.text(x[2]-0.11, (nitrogen[0][2]+0.03)*convau2eV, '2p',fontsize=26)\n",
    "plt.text(x[3]-0.11, (oxygen[0][1]+0.03)*convau2eV, '2s',fontsize=26)\n",
    "plt.text(x[3]-0.11, (oxygen[0][2]+0.03)*convau2eV, '2p',fontsize=26)\n",
    "plt.text(x[4]-0.09, ymax+0.3, 'A',fontsize=28)\n",
    "plt.text(x[5]-0.09, ymax+0.3, 'C',fontsize=28)\n",
    "plt.text(x[6]-0.09, ymax+0.3, 'G',fontsize=28)\n",
    "plt.text(x[7]-0.09, ymax+0.3, 'T',fontsize=28)\n",
    "plt.text(x[8]-0.09, ymax+0.3, 'U',fontsize=28)\n",
    "\n",
    "plt.savefig(\"../levelsDNA.eps\",bbox_inches='tight')\n",
    "plt.show()\n"
   ]
  },
  {
   "cell_type": "code",
   "execution_count": null,
   "metadata": {},
   "outputs": [],
   "source": []
  },
  {
   "cell_type": "code",
   "execution_count": 14,
   "metadata": {},
   "outputs": [
    {
     "name": "stdout",
     "output_type": "stream",
     "text": [
      "-7.19545505633961\n"
     ]
    }
   ],
   "source": [
    "av_adenine=np.sum(adenine[0][10:])/len(adenine[0][10:])*convau2eV\n",
    "print(av_adenine)"
   ]
  },
  {
   "cell_type": "code",
   "execution_count": 15,
   "metadata": {},
   "outputs": [
    {
     "name": "stdout",
     "output_type": "stream",
     "text": [
      "-6.905776138818534\n"
     ]
    }
   ],
   "source": [
    "av_cytosine=np.sum(cytosine[0][9:])/len(cytosine[0][9:])*convau2eV\n",
    "print(av_cytosine)"
   ]
  },
  {
   "cell_type": "code",
   "execution_count": null,
   "metadata": {},
   "outputs": [],
   "source": []
  },
  {
   "cell_type": "code",
   "execution_count": 16,
   "metadata": {},
   "outputs": [
    {
     "name": "stdout",
     "output_type": "stream",
     "text": [
      "-7.472492336686313\n"
     ]
    }
   ],
   "source": [
    "av_guanine=np.sum(guanine[0][11:])/len(guanine[0][11:])*convau2eV\n",
    "print(av_guanine)"
   ]
  },
  {
   "cell_type": "code",
   "execution_count": 17,
   "metadata": {},
   "outputs": [
    {
     "name": "stdout",
     "output_type": "stream",
     "text": [
      "-7.530413737024004\n"
     ]
    }
   ],
   "source": [
    "av_thymine=np.sum(thymine[0][9:])/len(thymine[0][9:])*convau2eV\n",
    "print(av_thymine)"
   ]
  },
  {
   "cell_type": "code",
   "execution_count": null,
   "metadata": {},
   "outputs": [],
   "source": []
  },
  {
   "cell_type": "code",
   "execution_count": 18,
   "metadata": {},
   "outputs": [
    {
     "name": "stdout",
     "output_type": "stream",
     "text": [
      "-7.622365579786044\n"
     ]
    }
   ],
   "source": [
    "av_uracil=np.sum(uracil[0][8:])/len(uracil[0][8:])*convau2eV\n",
    "print(av_uracil)"
   ]
  },
  {
   "cell_type": "code",
   "execution_count": null,
   "metadata": {},
   "outputs": [],
   "source": []
  },
  {
   "cell_type": "code",
   "execution_count": null,
   "metadata": {},
   "outputs": [],
   "source": []
  },
  {
   "cell_type": "code",
   "execution_count": 19,
   "metadata": {},
   "outputs": [
    {
     "name": "stdout",
     "output_type": "stream",
     "text": [
      "-8.423600331540246\n"
     ]
    }
   ],
   "source": [
    "stoi_adenine=((2*carbon[0][1]+2*carbon[0][2])*5\n",
    "              +hydrogen[0][0]*5\n",
    "              +(2*nitrogen[0][1]+3*nitrogen[0][2])*5\n",
    "             )/(4*5+5+5*5)*convau2eV\n",
    "print(stoi_adenine)"
   ]
  },
  {
   "cell_type": "code",
   "execution_count": 20,
   "metadata": {},
   "outputs": [
    {
     "name": "stdout",
     "output_type": "stream",
     "text": [
      "-7.902732908725241\n"
     ]
    }
   ],
   "source": [
    "newstoi_adenine=((2*carbon[0][1]+2*carbon[0][2])*5\n",
    "                 +hydrogen[0][0]*5\n",
    "                 +(1*nitrogen[0][1]+3*nitrogen[0][2])*5\n",
    "                )/(4*5+5+4*5)*convau2eV\n",
    "print(newstoi_adenine)"
   ]
  },
  {
   "cell_type": "code",
   "execution_count": null,
   "metadata": {},
   "outputs": [],
   "source": []
  },
  {
   "cell_type": "code",
   "execution_count": 21,
   "metadata": {},
   "outputs": [
    {
     "name": "stdout",
     "output_type": "stream",
     "text": [
      "-8.674315911788389\n"
     ]
    }
   ],
   "source": [
    "stoi_cytosine=((2*carbon[0][1]+2*carbon[0][2])*4\n",
    "               +hydrogen[0][0]*5\n",
    "               +(2*nitrogen[0][1]+3*nitrogen[0][2])*3\n",
    "               +(2*oxygen[0][1]+4*oxygen[0][2])\n",
    "              )/(4*4+5+5*3+6)*convau2eV\n",
    "print(stoi_cytosine)"
   ]
  },
  {
   "cell_type": "code",
   "execution_count": 22,
   "metadata": {},
   "outputs": [
    {
     "name": "stdout",
     "output_type": "stream",
     "text": [
      "-7.8638616704128825\n"
     ]
    }
   ],
   "source": [
    "newstoi_cytosine=((2*carbon[0][1]+2*carbon[0][2])*4\n",
    "                  +hydrogen[0][0]*5\n",
    "                  +(1*nitrogen[0][1]+3*nitrogen[0][2])*3\n",
    "                  +(4*oxygen[0][2])\n",
    "                 )/(4*4+5+4*3+4)*convau2eV\n",
    "print(newstoi_cytosine)"
   ]
  },
  {
   "cell_type": "code",
   "execution_count": null,
   "metadata": {},
   "outputs": [],
   "source": []
  },
  {
   "cell_type": "code",
   "execution_count": null,
   "metadata": {},
   "outputs": [],
   "source": []
  },
  {
   "cell_type": "code",
   "execution_count": null,
   "metadata": {},
   "outputs": [],
   "source": []
  },
  {
   "cell_type": "code",
   "execution_count": 23,
   "metadata": {},
   "outputs": [
    {
     "name": "stdout",
     "output_type": "stream",
     "text": [
      "-8.727483068191733\n"
     ]
    }
   ],
   "source": [
    "stoi_guanine=((2*carbon[0][1]+2*carbon[0][2])*5\n",
    "               +hydrogen[0][0]*5\n",
    "               +(2*nitrogen[0][1]+3*nitrogen[0][2])*5\n",
    "               +(2*oxygen[0][1]+4*oxygen[0][2])\n",
    "             )/(4*5+5+5*5+6)*convau2eV\n",
    "print(stoi_guanine)"
   ]
  },
  {
   "cell_type": "code",
   "execution_count": 24,
   "metadata": {},
   "outputs": [
    {
     "name": "stdout",
     "output_type": "stream",
     "text": [
      "-7.9419969603092\n"
     ]
    }
   ],
   "source": [
    "newstoi_guanine=((2*carbon[0][1]+2*carbon[0][2])*5\n",
    "                 +hydrogen[0][0]*5\n",
    "                 +(1*nitrogen[0][1]+3*nitrogen[0][2])*5\n",
    "                 +(4*oxygen[0][2])\n",
    "                )/(4*5+5+4*5+4)*convau2eV\n",
    "print(newstoi_guanine)"
   ]
  },
  {
   "cell_type": "code",
   "execution_count": null,
   "metadata": {},
   "outputs": [],
   "source": []
  },
  {
   "cell_type": "code",
   "execution_count": null,
   "metadata": {},
   "outputs": [],
   "source": []
  },
  {
   "cell_type": "code",
   "execution_count": 25,
   "metadata": {},
   "outputs": [
    {
     "name": "stdout",
     "output_type": "stream",
     "text": [
      "-8.794730174372814\n"
     ]
    }
   ],
   "source": [
    "stoi_thymine=((2*carbon[0][1]+2*carbon[0][2])*5\n",
    "               +hydrogen[0][0]*6\n",
    "               +(2*nitrogen[0][1]+3*nitrogen[0][2])*2\n",
    "               +(2*oxygen[0][1]+4*oxygen[0][2])*2\n",
    "             )/(4*5+1*6+5*2+6*2)*convau2eV\n",
    "print(stoi_thymine)"
   ]
  },
  {
   "cell_type": "code",
   "execution_count": 26,
   "metadata": {},
   "outputs": [
    {
     "name": "stdout",
     "output_type": "stream",
     "text": [
      "-7.806569141374402\n"
     ]
    }
   ],
   "source": [
    "newstoi_thymine=((2*carbon[0][1]+2*carbon[0][2])*5\n",
    "                 +hydrogen[0][0]*6\n",
    "                 +(1*nitrogen[0][1]+3*nitrogen[0][2])*2\n",
    "                 +(4*oxygen[0][2])*2\n",
    "               )/(4*5+1*6+4*2+4*2)*convau2eV\n",
    "print(newstoi_thymine)"
   ]
  },
  {
   "cell_type": "code",
   "execution_count": null,
   "metadata": {},
   "outputs": [],
   "source": []
  },
  {
   "cell_type": "code",
   "execution_count": 27,
   "metadata": {},
   "outputs": [
    {
     "name": "stdout",
     "output_type": "stream",
     "text": [
      "-9.002210125302737\n"
     ]
    }
   ],
   "source": [
    "stoi_uracil=((2*carbon[0][1]+2*carbon[0][2])*4\n",
    "               +hydrogen[0][0]*4\n",
    "               +(2*nitrogen[0][1]+3*nitrogen[0][2])*2\n",
    "               +(2*oxygen[0][1]+4*oxygen[0][2])*2\n",
    "             )/(4*4+1*4+5*2+6*2)*convau2eV\n",
    "print(stoi_uracil)"
   ]
  },
  {
   "cell_type": "code",
   "execution_count": 28,
   "metadata": {},
   "outputs": [
    {
     "name": "stdout",
     "output_type": "stream",
     "text": [
      "-7.88393557862624\n"
     ]
    }
   ],
   "source": [
    "newstoi_uracil=((2*carbon[0][1]+2*carbon[0][2])*4\n",
    "               +hydrogen[0][0]*4\n",
    "               +(1*nitrogen[0][1]+3*nitrogen[0][2])*2\n",
    "               +(4*oxygen[0][2])*2\n",
    "             )/(4*4+1*4+4*2+4*2)*convau2eV\n",
    "print(newstoi_uracil)"
   ]
  },
  {
   "cell_type": "code",
   "execution_count": null,
   "metadata": {},
   "outputs": [],
   "source": []
  },
  {
   "cell_type": "code",
   "execution_count": 29,
   "metadata": {},
   "outputs": [
    {
     "data": {
      "image/png": "[encoded data removed]",
      "text/plain": [
       "<Figure size 1296x648 with 1 Axes>"
      ]
     },
     "metadata": {
      "needs_background": "light"
     },
     "output_type": "display_data"
    }
   ],
   "source": [
    "fig = plt.figure(figsize=(18,9))\n",
    "ax = plt.subplot(111)\n",
    "xdel=0.4\n",
    "iw=2\n",
    "plt.hlines(carbon[1:3]*convau2eV,     x[0]-xdel,x[0]+xdel,color='k',linewidths=iw)\n",
    "plt.hlines(hydrogen*convau2eV,        x[1]-xdel,x[1]+xdel,color='tab:grey',linewidths=iw)\n",
    "plt.hlines(nitrogen[0][1:3]*convau2eV,x[2]-xdel,x[2]+xdel,color='blue',linewidths=iw)\n",
    "plt.hlines(oxygen[0][1:3]*convau2eV,  x[3]-xdel,x[3]+xdel,color='red',linewidths=iw)\n",
    "xdel=0.5\n",
    "plt.hlines(adenine[0][10:]*convau2eV, x[4]-xdel,x[4]+xdel,color='orange',linewidths=iw)\n",
    "plt.hlines(cytosine[0][8:]*convau2eV, x[5]-xdel,x[5]+xdel,color='mediumseagreen',linewidths=iw)\n",
    "plt.hlines(guanine[0][11:]*convau2eV, x[6]-xdel,x[6]+xdel,color='turquoise',linewidths=iw)\n",
    "plt.hlines(thymine[0][9:]*convau2eV,  x[7]-xdel,x[7]+xdel,color='cornflowerblue',linewidths=iw)\n",
    "plt.hlines(uracil[0][8:]*convau2eV,   x[8]-xdel,x[8]+xdel,color='violet',linewidths=iw)\n",
    "\n",
    "plt.hlines(av_adenine,x[4]-xdel,x[4]+xdel,color='k',linewidths=iw+1)\n",
    "plt.hlines(av_cytosine,x[5]-xdel,x[5]+xdel,color='k',linewidths=iw+1)\n",
    "plt.hlines(av_guanine,x[6]-xdel,x[6]+xdel,color='k',linewidths=iw+1)\n",
    "plt.hlines(av_thymine, x[7]-xdel,x[7]+xdel,color='k',linewidths=iw+1)\n",
    "plt.hlines(av_uracil,  x[8]-xdel,x[8]+xdel,color='k',linewidths=iw+1)\n",
    "\n",
    "plt.hlines(stoi_adenine,x[4]-xdel,x[4]+xdel,color='r',linewidths=iw+1)\n",
    "plt.hlines(stoi_cytosine,x[5]-xdel,x[5]+xdel,color='r',linewidths=iw+1)\n",
    "plt.hlines(stoi_guanine,x[6]-xdel,x[6]+xdel,color='r',linewidths=iw+1)\n",
    "plt.hlines(stoi_thymine, x[7]-xdel,x[7]+xdel,color='r',linewidths=iw+2)\n",
    "plt.hlines(stoi_uracil,  x[8]-xdel,x[8]+xdel,color='r',linewidths=iw+1)\n",
    "\n",
    "plt.hlines(newstoi_adenine,x[4]-xdel,x[4]+xdel,color='r',linestyle='dashed',linewidths=iw+2)\n",
    "plt.hlines(newstoi_cytosine,x[5]-xdel,x[5]+xdel,color='r',linestyle='dashed',linewidths=iw+2)\n",
    "plt.hlines(newstoi_guanine,x[6]-xdel,x[6]+xdel,color='r',linestyle='dashed',linewidths=iw+2)\n",
    "plt.hlines(newstoi_thymine, x[7]-xdel,x[7]+xdel,color='r',linestyle='dashed',linewidths=iw+2)\n",
    "plt.hlines(newstoi_uracil,  x[8]-xdel,x[8]+xdel,color='r',linestyle='dashed',linewidths=iw+2)\n",
    "\n",
    "xmin=0.\n",
    "xmax=x[8]+xdel+0.2\n",
    "ymin=-1.3*convau2eV\n",
    "ymax=-0.125*convau2eV\n",
    "plt.hlines(-0.81*convau2eV,xmin,xmax,color='tab:gray',linestyle='dashed',linewidth=1)\n",
    "plt.xlim(xmin,xmax)\n",
    "plt.ylim(ymin,ymax)\n",
    "ax.yaxis.set_major_locator(MultipleLocator(2));\n",
    "ax.yaxis.set_minor_locator(MultipleLocator(0.4))\n",
    "ax.tick_params(which='major', labelsize=26,length=8);\n",
    "ax.tick_params(which='minor', length=6)\n",
    "plt.ylabel(\"Binding energies (eV)\", fontsize=32)\n",
    "plt.xticks(x, ('C', 'H', 'N', 'O', r'C$_5$H$_5$N$_5$',r'C$_4$H$_5$N$_3$O',r'C$_5$H$_5$N$_5$O',r'C$_5$H$_6$N$_2$O$_2$',r'C$_4$H$_4$N$_2$O$_2$'))\n",
    "plt.text(x[0]-0.11, (carbon[0][1]+0.03)*convau2eV, '2s',fontsize=26)\n",
    "plt.text(x[0]-0.11, (carbon[0][2]+0.03)*convau2eV, '2p',fontsize=26)\n",
    "plt.text(x[1]-0.11, (hydrogen[0][0]+0.03)*convau2eV, '1s',fontsize=26)\n",
    "plt.text(x[2]-0.11, (nitrogen[0][1]+0.03)*convau2eV, '2s',fontsize=26)\n",
    "plt.text(x[2]-0.11, (nitrogen[0][2]+0.03)*convau2eV, '2p',fontsize=26)\n",
    "plt.text(x[3]-0.11, (oxygen[0][1]+0.03)*convau2eV, '2s',fontsize=26)\n",
    "plt.text(x[3]-0.11, (oxygen[0][2]+0.03)*convau2eV, '2p',fontsize=26)\n",
    "plt.text(x[4]-0.09, ymax+0.3, 'A',fontsize=28)\n",
    "plt.text(x[5]-0.09, ymax+0.3, 'C',fontsize=28)\n",
    "plt.text(x[6]-0.09, ymax+0.3, 'G',fontsize=28)\n",
    "plt.text(x[7]-0.09, ymax+0.3, 'T',fontsize=28)\n",
    "plt.text(x[8]-0.09, ymax+0.3, 'U',fontsize=28)\n",
    "\n",
    "plt.show()"
   ]
  },
  {
   "cell_type": "code",
   "execution_count": null,
   "metadata": {},
   "outputs": [],
   "source": []
  },
  {
   "cell_type": "code",
   "execution_count": null,
   "metadata": {},
   "outputs": [],
   "source": []
  }
 ],
 "metadata": {
  "kernelspec": {
   "display_name": "Python 3",
   "language": "python",
   "name": "python3"
  },
  "language_info": {
   "codemirror_mode": {
    "name": "ipython",
    "version": 3
   },
   "file_extension": ".py",
   "mimetype": "text/x-python",
   "name": "python",
   "nbconvert_exporter": "python",
   "pygments_lexer": "ipython3",
   "version": "3.7.1"
  }
 },
 "nbformat": 4,
 "nbformat_minor": 2
}
