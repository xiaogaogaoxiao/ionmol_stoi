{
 "cells": [
  {
   "cell_type": "code",
   "execution_count": 1,
   "metadata": {},
   "outputs": [],
   "source": [
    "import numpy as np\n",
    "import pandas as pd\n",
    "import matplotlib.pyplot as plt"
   ]
  },
  {
   "cell_type": "code",
   "execution_count": 40,
   "metadata": {},
   "outputs": [],
   "source": [
    "convMb=0.28002*100\n",
    "\n",
    "def convkeV(x):\n",
    "    return 25.0*(x**2)"
   ]
  },
  {
   "cell_type": "code",
   "execution_count": 7,
   "metadata": {},
   "outputs": [],
   "source": [
    "folder='~/newmonti/meanvalues/'"
   ]
  },
  {
   "cell_type": "code",
   "execution_count": 8,
   "metadata": {},
   "outputs": [],
   "source": [
    "irows=10"
   ]
  },
  {
   "cell_type": "code",
   "execution_count": 26,
   "metadata": {},
   "outputs": [],
   "source": [
    "h_emean=[]\n",
    "c_emean=[]\n",
    "n_emean=[]\n",
    "o_emean=[]\n",
    "p_emean=[]\n",
    "s_emean=[]\n",
    "for i in range(7):\n",
    "    dumh=pd.read_csv(folder+\"h_emean.dat\",sep=' ',delimiter='\\s+',header=None,skiprows=(1+irows)*i+1,nrows=irows)\n",
    "    dumc=pd.read_csv(folder+\"c_emean.dat\",sep=' ',delimiter='\\s+',header=None,skiprows=(1+irows)*i+1,nrows=irows)\n",
    "    dumn=pd.read_csv(folder+\"n_emean.dat\",sep=' ',delimiter='\\s+',header=None,skiprows=(1+irows)*i+1,nrows=irows)\n",
    "    dumo=pd.read_csv(folder+\"o_emean.dat\",sep=' ',delimiter='\\s+',header=None,skiprows=(1+irows)*i+1,nrows=irows)\n",
    "    dump=pd.read_csv(folder+\"p_emean.dat\",sep=' ',delimiter='\\s+',header=None,skiprows=(1+irows)*i+1,nrows=irows)\n",
    "    dums=pd.read_csv(folder+\"s_emean.dat\",sep=' ',delimiter='\\s+',header=None,skiprows=(1+irows)*i+1,nrows=irows)\n",
    "    h_emean.append(dumh)\n",
    "    c_emean.append(dumc)\n",
    "    n_emean.append(dumn)\n",
    "    o_emean.append(dumo)\n",
    "    p_emean.append(dump)\n",
    "    s_emean.append(dums)"
   ]
  },
  {
   "cell_type": "code",
   "execution_count": null,
   "metadata": {},
   "outputs": [],
   "source": []
  },
  {
   "cell_type": "code",
   "execution_count": 29,
   "metadata": {},
   "outputs": [],
   "source": [
    "hp_e=h_emean[0]\n",
    "hap_e=h_emean[1]\n",
    "hhe_e=h_emean[2]\n",
    "hbe_e=h_emean[3]\n",
    "hc_e=h_emean[4]\n",
    "ho_e=h_emean[5]\n",
    "hB_e=h_emean[6]"
   ]
  },
  {
   "cell_type": "code",
   "execution_count": 32,
   "metadata": {},
   "outputs": [],
   "source": [
    "cp_e=c_emean[0]\n",
    "cap_e=c_emean[1]\n",
    "che_e=c_emean[2]\n",
    "cbe_e=c_emean[3]\n",
    "cc_e=c_emean[4]\n",
    "co_e=c_emean[5]\n",
    "cB_e=c_emean[6]"
   ]
  },
  {
   "cell_type": "code",
   "execution_count": 33,
   "metadata": {},
   "outputs": [],
   "source": [
    "np_e=n_emean[0]\n",
    "nap_e=n_emean[1]\n",
    "nhe_e=n_emean[2]\n",
    "nbe_e=n_emean[3]\n",
    "nc_e=n_emean[4]\n",
    "no_e=n_emean[5]\n",
    "nB_e=n_emean[6]"
   ]
  },
  {
   "cell_type": "code",
   "execution_count": 34,
   "metadata": {},
   "outputs": [],
   "source": [
    "op_e=o_emean[0]\n",
    "oap_e=o_emean[1]\n",
    "ohe_e=o_emean[2]\n",
    "obe_e=o_emean[3]\n",
    "oc_e=o_emean[4]\n",
    "oo_e=o_emean[5]\n",
    "oB_e=o_emean[6]"
   ]
  },
  {
   "cell_type": "code",
   "execution_count": 35,
   "metadata": {},
   "outputs": [],
   "source": [
    "pp_e=p_emean[0]\n",
    "pap_e=p_emean[1]\n",
    "phe_e=p_emean[2]\n",
    "pbe_e=p_emean[3]\n",
    "pc_e=p_emean[4]\n",
    "po_e=p_emean[5]\n",
    "pB_e=p_emean[6]"
   ]
  },
  {
   "cell_type": "code",
   "execution_count": 36,
   "metadata": {},
   "outputs": [],
   "source": [
    "sp_e=s_emean[0]\n",
    "sap_e=s_emean[1]\n",
    "she_e=s_emean[2]\n",
    "sbe_e=s_emean[3]\n",
    "sc_e=s_emean[4]\n",
    "so_e=s_emean[5]\n",
    "sB_e=s_emean[6]"
   ]
  },
  {
   "cell_type": "code",
   "execution_count": null,
   "metadata": {},
   "outputs": [],
   "source": []
  },
  {
   "cell_type": "markdown",
   "metadata": {},
   "source": [
    "# Implementing Cubic Spline"
   ]
  },
  {
   "cell_type": "code",
   "execution_count": 45,
   "metadata": {},
   "outputs": [],
   "source": [
    "from scipy import interpolate\n",
    "\n",
    "def interp_XS(XY,ix,iy,kind):\n",
    "    x=XY[ix].values\n",
    "    y=XY[iy].values\n",
    "    n=len(x)\n",
    "    spline = interpolate.interp1d(x, y, kind=kind)\n",
    "    xnew = np.arange(x[0], x[n-1], 0.1)\n",
    "    ynew = spline(xnew)\n",
    "    XYnew = pd.DataFrame({ix:xnew, iy:ynew})\n",
    "    return XYnew"
   ]
  },
  {
   "cell_type": "code",
   "execution_count": 47,
   "metadata": {},
   "outputs": [],
   "source": [
    "hp_eint=interp_XS(hp_e,1,4,'cubic')\n",
    "hap_eint=interp_XS(hap_e,1,4,'cubic')\n",
    "hhe_eint=interp_XS(hhe_e,1,4,'cubic')\n",
    "hbe_eint=interp_XS(hbe_e,1,4,'cubic')\n",
    "hc_eint=interp_XS(hc_e,1,4,'cubic')\n",
    "ho_eint=interp_XS(ho_e,1,4,'cubic')"
   ]
  },
  {
   "cell_type": "code",
   "execution_count": 48,
   "metadata": {},
   "outputs": [],
   "source": [
    "cp_eint=interp_XS(cp_e,1,4,'cubic')\n",
    "cap_eint=interp_XS(cap_e,1,4,'cubic')\n",
    "che_eint=interp_XS(che_e,1,4,'cubic')\n",
    "cbe_eint=interp_XS(cbe_e,1,4,'cubic')\n",
    "cc_eint=interp_XS(cc_e,1,4,'cubic')\n",
    "co_eint=interp_XS(co_e,1,4,'cubic')"
   ]
  },
  {
   "cell_type": "code",
   "execution_count": 50,
   "metadata": {},
   "outputs": [],
   "source": [
    "np_eint=interp_XS(np_e,1,4,'cubic')\n",
    "nap_eint=interp_XS(nap_e,1,4,'cubic')\n",
    "nhe_eint=interp_XS(nhe_e,1,4,'cubic')\n",
    "nbe_eint=interp_XS(nbe_e,1,4,'cubic')\n",
    "nc_eint=interp_XS(nc_e,1,4,'cubic')\n",
    "no_eint=interp_XS(no_e,1,4,'cubic')"
   ]
  },
  {
   "cell_type": "code",
   "execution_count": 49,
   "metadata": {},
   "outputs": [],
   "source": [
    "op_eint=interp_XS(op_e,1,4,'cubic')\n",
    "oap_eint=interp_XS(oap_e,1,4,'cubic')\n",
    "ohe_eint=interp_XS(ohe_e,1,4,'cubic')\n",
    "obe_eint=interp_XS(obe_e,1,4,'cubic')\n",
    "oc_eint=interp_XS(oc_e,1,4,'cubic')\n",
    "oo_eint=interp_XS(oo_e,1,4,'cubic')"
   ]
  },
  {
   "cell_type": "code",
   "execution_count": null,
   "metadata": {},
   "outputs": [],
   "source": []
  },
  {
   "cell_type": "code",
   "execution_count": 42,
   "metadata": {},
   "outputs": [],
   "source": [
    "co_p='red'\n",
    "co_ap='red'\n",
    "co_he='darkorchid'\n",
    "co_be='royalblue'\n",
    "co_c='forestgreen'\n",
    "co_o='darkorange'"
   ]
  },
  {
   "cell_type": "code",
   "execution_count": 65,
   "metadata": {
    "scrolled": false
   },
   "outputs": [
    {
     "data": {
      "image/png": "[encoded data removed]",
      "text/plain": [
       "<Figure size 1296x648 with 6 Axes>"
      ]
     },
     "metadata": {
      "needs_background": "light"
     },
     "output_type": "display_data"
    }
   ],
   "source": [
    "plt.rc('text', usetex=True)\n",
    "plt.rc('font', family='serif')\n",
    "\n",
    "xmin=convkeV(1.)\n",
    "xmax=convkeV(9.)\n",
    "ymin=0.1\n",
    "ymax=2.\n",
    "xtext=convkeV(7.)\n",
    "ytext=1.8\n",
    "iminus=0\n",
    "\n",
    "fig = plt.figure(figsize=(18,9))\n",
    "### Hidrogeno ####\n",
    "ax1 = plt.subplot(231)\n",
    "plt.plot(convkeV(hp_eint[1]), hp_eint[4],co_p,linewidth=2,label=r'H$^{+}$')\n",
    "plt.plot(convkeV(hap_eint[1]), hap_eint[4],co_p,linewidth=2,linestyle='dashed',label=r'H$^{+}$')\n",
    "plt.plot(convkeV(hhe_eint[1]), hhe_eint[4]/2**2,co_he,linewidth=2,label=r'H$^{+}$')\n",
    "plt.plot(convkeV(hbe_eint[1]), hbe_eint[4]/4**2,co_be,linewidth=2,label=r'H$^{+}$')\n",
    "plt.plot(convkeV(hc_eint[1]), hc_eint[4]/6**2,co_c,linewidth=2,label=r'H$^{+}$')\n",
    "plt.plot(convkeV(ho_eint[1]), ho_eint[4]/8**2,co_o,linewidth=2,label=r'H$^{+}$')\n",
    "plt.plot(convkeV(hB_e[1]), hB_e[4],'k',linewidth=2)\n",
    "plt.xlim(xmin,xmax)\n",
    "#plt.ylim(ymin,ymax)\n",
    "plt.xscale('log')\n",
    "plt.tick_params(labelsize=26);\n",
    "plt.ylabel(\"Ionization Cross Section/Z$^2$ (Mb)\", fontsize=28,labelpad=5,position=(1,0))\n",
    "#ax1.legend(loc='upper left',bbox_to_anchor=(0.06, 1.3, 0, 0),fontsize=26,ncol=6)\n",
    "plt.text(xtext, ytext, 'H',fontsize=30)\n",
    "\n",
    "### Carbono ###\n",
    "ax2 = plt.subplot(232)\n",
    "plt.xlim(xmin,xmax)\n",
    "plt.ylim(ymin,ymax)\n",
    "plt.xscale('log')\n",
    "plt.tick_params(labelsize=26);\n",
    "plt.text(xtext, ytext, 'C',fontsize=30)\n",
    "\n",
    "### Nitrogeno ###\n",
    "ax3 = plt.subplot(233)\n",
    "plt.xlim(xmin,xmax)\n",
    "plt.ylim(ymin,ymax)\n",
    "plt.xscale('log')\n",
    "plt.tick_params(labelsize=26);\n",
    "plt.text(xtext, ytext, 'N',fontsize=30)\n",
    "\n",
    "### Oxigeno ###\n",
    "ax4 = plt.subplot(234)\n",
    "plt.xlim(xmin,xmax)\n",
    "plt.ylim(ymin,ymax)\n",
    "plt.xscale('log')\n",
    "plt.tick_params(labelsize=26);\n",
    "plt.text(xtext, ytext, 'O',fontsize=30)\n",
    "\n",
    "### Fosforo ###\n",
    "ax5 = plt.subplot(235)\n",
    "plt.xlim(xmin,xmax)\n",
    "plt.ylim(ymin,ymax)\n",
    "plt.xscale('log')\n",
    "plt.tick_params(labelsize=26);\n",
    "plt.xlabel(\"Impact energy (keV/amu)\", fontsize=28,labelpad=10)\n",
    "plt.text(xtext, ytext, 'P',fontsize=30)\n",
    "\n",
    "### Sulfuro ###\n",
    "ax6 = plt.subplot(236)\n",
    "plt.xlim(xmin,xmax)\n",
    "plt.ylim(ymin,ymax)\n",
    "plt.xscale('log')\n",
    "plt.tick_params(labelsize=26);\n",
    "plt.text(xtext, ytext, 'S',fontsize=30)\n",
    "\n",
    "for ax in fig.get_axes():\n",
    "    ax.label_outer()\n",
    "fig.subplots_adjust(hspace=0.05, wspace=0.05)\n",
    "\n",
    "plt.savefig(\"../emean.eps\",bbox_inches='tight')\n",
    "plt.show()"
   ]
  },
  {
   "cell_type": "code",
   "execution_count": null,
   "metadata": {},
   "outputs": [],
   "source": []
  }
 ],
 "metadata": {
  "kernelspec": {
   "display_name": "Python 3",
   "language": "python",
   "name": "python3"
  },
  "language_info": {
   "codemirror_mode": {
    "name": "ipython",
    "version": 3
   },
   "file_extension": ".py",
   "mimetype": "text/x-python",
   "name": "python",
   "nbconvert_exporter": "python",
   "pygments_lexer": "ipython3",
   "version": "3.7.1"
  }
 },
 "nbformat": 4,
 "nbformat_minor": 2
}
